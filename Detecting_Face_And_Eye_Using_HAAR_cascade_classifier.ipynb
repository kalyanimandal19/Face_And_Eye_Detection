{
 "cells": [
  {
   "cell_type": "code",
   "execution_count": 4,
   "id": "959e5a90",
   "metadata": {},
   "outputs": [],
   "source": [
    "import cv2"
   ]
  },
  {
   "cell_type": "code",
   "execution_count": 5,
   "id": "eaf5929d",
   "metadata": {},
   "outputs": [],
   "source": [
    "face_classifier = cv2.CascadeClassifier('haarcascade_frontalface_default.xml')\n",
    "eye_classifier = cv2.CascadeClassifier('haarcascade_eye.xml')"
   ]
  },
  {
   "cell_type": "code",
   "execution_count": 12,
   "id": "285cf3c2",
   "metadata": {},
   "outputs": [],
   "source": [
    "def detect_face_and_eye(gray, frame):\n",
    "    #cv.CascadeClassifier.detectMultiScale(image[, scaleFactor[, minNeighbors[, flags[, minSize[, maxSize]]]]])\n",
    "    faces = face_classifier.detectMultiScale(gray, 1.3, 5)\n",
    "    #print(faces)\n",
    "    for (x, y, w, h) in faces:\n",
    "        #rectangle(img, pt1, pt2, color[, thickness[, lineType[, shift]]])\n",
    "        cv2.rectangle(frame, (x, y), (x+w, y+h), (245, 0, 0), 1)\n",
    "        \n",
    "        e_gray = gray[y:y+h, x:x+w]\n",
    "        e_color = frame[y:y+h, x:x+w]\n",
    "    \n",
    "        eyes = eye_classifier.detectMultiScale(e_gray, 1.1, 4)\n",
    "        #print(eyes)\n",
    "        for (ex,ey, ew, eh) in eyes:\n",
    "            cv2.rectangle(e_color, (ex, ey), (ex+ew, ey+eh), (0, 245, 0), 1)\n",
    "    return frame"
   ]
  },
  {
   "cell_type": "code",
   "execution_count": 13,
   "id": "c34f939e",
   "metadata": {},
   "outputs": [],
   "source": [
    "v_cap = cv2.VideoCapture(0)\n",
    "\n",
    "while v_cap.isOpened():\n",
    "    rat, frame = v_cap.read()\n",
    "    gray = cv2.cvtColor(frame, cv2.COLOR_BGR2GRAY)\n",
    "    screen = detect_face_and_eye(gray, frame)\n",
    "    cv2.imshow('Video', screen)\n",
    "    if cv2.waitKey(1) & 0xff == ord('q'):\n",
    "            break\n",
    "            \n",
    "        \n",
    "v_cap.release()\n",
    "cv2.destroyAllWindows() "
   ]
  },
  {
   "cell_type": "code",
   "execution_count": null,
   "id": "8f8a24aa",
   "metadata": {},
   "outputs": [],
   "source": []
  }
 ],
 "metadata": {
  "kernelspec": {
   "display_name": "Python 3",
   "language": "python",
   "name": "python3"
  },
  "language_info": {
   "codemirror_mode": {
    "name": "ipython",
    "version": 3
   },
   "file_extension": ".py",
   "mimetype": "text/x-python",
   "name": "python",
   "nbconvert_exporter": "python",
   "pygments_lexer": "ipython3",
   "version": "3.7.11"
  }
 },
 "nbformat": 4,
 "nbformat_minor": 5
}
